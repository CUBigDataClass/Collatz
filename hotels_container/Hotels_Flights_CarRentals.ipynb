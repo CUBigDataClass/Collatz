{
 "cells": [
  {
   "cell_type": "code",
   "execution_count": 1,
   "id": "d605de04",
   "metadata": {},
   "outputs": [
    {
     "name": "stderr",
     "output_type": "stream",
     "text": [
      "<>:31: SyntaxWarning: \"is not\" with a literal. Did you mean \"!=\"?\n",
      "<>:31: SyntaxWarning: \"is not\" with a literal. Did you mean \"!=\"?\n"
     ]
    },
    {
     "name": "stdout",
     "output_type": "stream",
     "text": [
      "Requirement already satisfied: airportsdata in c:\\users\\sushravya b c\\anaconda3\\lib\\site-packages (20220406)\n",
      "Requirement already satisfied: geopy in c:\\users\\sushravya b c\\anaconda3\\lib\\site-packages (2.2.0)\n",
      "Requirement already satisfied: geographiclib<2,>=1.49 in c:\\users\\sushravya b c\\anaconda3\\lib\\site-packages (from geopy) (1.52)\n"
     ]
    },
    {
     "name": "stderr",
     "output_type": "stream",
     "text": [
      "C:\\Users\\SUSHRA~1\\AppData\\Local\\Temp/ipykernel_38864/2215324533.py:31: SyntaxWarning: \"is not\" with a literal. Did you mean \"!=\"?\n",
      "  if airports[key][\"iata\"] is not \"\":\n"
     ]
    },
    {
     "name": "stdout",
     "output_type": "stream",
     "text": [
      " * Serving Flask app \"__main__\" (lazy loading)\n",
      " * Environment: production\n",
      "\u001b[31m   WARNING: This is a development server. Do not use it in a production deployment.\u001b[0m\n",
      "\u001b[2m   Use a production WSGI server instead.\u001b[0m\n",
      " * Debug mode: off\n"
     ]
    },
    {
     "name": "stderr",
     "output_type": "stream",
     "text": [
      " * Running on all addresses.\n",
      "   WARNING: This is a development server. Do not use it in a production deployment.\n",
      " * Running on http://192.168.0.35:5000/ (Press CTRL+C to quit)\n",
      "192.168.0.35 - - [08/Apr/2022 21:46:06] \"GET / HTTP/1.1\" 200 -\n",
      "192.168.0.35 - - [08/Apr/2022 21:46:16] \"GET /hotels HTTP/1.1\" 200 -\n"
     ]
    }
   ],
   "source": [
    "# from flask import Flask\n",
    "!pip install -U airportsdata\n",
    "!pip install geopy\n",
    "\n",
    "import requests,json\n",
    "from flask import Flask,request, jsonify\n",
    "from static.constants import *\n",
    "import airportsdata\n",
    "import pandas as pd\n",
    "import numpy as np\n",
    "import math\n",
    "from geopy.geocoders import Nominatim\n",
    "\n",
    "# Initialize the Flask application\n",
    "app = Flask(__name__)\n",
    "\n",
    "\n",
    "@app.route('/')\n",
    "def hello_world():  # put application's code here\n",
    "    return 'Hello World!'\n",
    "\n",
    "\n",
    "# Pure data\n",
    "airports = airportsdata.load()\n",
    "\n",
    "# Processed Data\n",
    "airports_df = pd.DataFrame(columns=[\"code\", \"lat\", \"long\"])\n",
    "\n",
    "for key in airports.keys():\n",
    "    if (\"international\" in airports[key][\"name\"].lower()) or (\"intl\" in airports[key][\"name\"].lower()):\n",
    "        if airports[key][\"iata\"] is not \"\":\n",
    "            # print(airports[key])\n",
    "            temp_df = pd.DataFrame([[airports[key][\"iata\"], airports[key][\"lat\"], airports[key][\"lon\"]]],\n",
    "                                   columns=[\"code\", \"lat\", \"long\"])\n",
    "            airports_df = airports_df.append(temp_df, ignore_index=True)\n",
    "\n",
    "starting_loc = \"Boulder\"\n",
    "destination = \"San Francisco\"\n",
    "start_date = \"2022-06-10\"\n",
    "end_date = \"2022-06-17\"\n",
    "adult_count = 1\n",
    "child_count = 0\n",
    "\n",
    "\n",
    "def getBestAirports(location, airports_df, nbest=3):\n",
    "    geocoder = Nominatim(user_agent=\"GetLoc\")\n",
    "    getLocation = geocoder.geocode(location)\n",
    "\n",
    "    lat = getLocation.latitude\n",
    "    long = getLocation.longitude\n",
    "\n",
    "    location = geocoder.reverse((lat, long))\n",
    "\n",
    "    # print(location.raw[\"latitude\"])\n",
    "\n",
    "    city = location.raw[\"address\"][\"city\"]\n",
    "    if \"state\" in location.raw[\"address\"].keys():\n",
    "        state = location.raw[\"address\"][\"state\"]\n",
    "    elif \"region\" in location.raw[\"address\"].keys():\n",
    "        state = location.raw[\"address\"][\"region\"]\n",
    "\n",
    "    df = airports_df.copy()\n",
    "\n",
    "    df[\"dist\"] = np.sqrt((airports_df[\"lat\"] - lat) ** 2 + (airports_df[\"long\"] - long) ** 2)\n",
    "    best_airports = df.nsmallest(nbest, columns=[\"dist\"])\n",
    "    best_airports.reset_index(inplace=True)\n",
    "\n",
    "    return best_airports, city, state\n",
    "\n",
    "\n",
    "home_best_airports, home_city, home_state = getBestAirports(starting_loc, airports_df)\n",
    "dest_best_airports, dest_city, dest_state = getBestAirports(destination, airports_df)\n",
    "\n",
    "home_airport_code = home_best_airports.loc[0][\"code\"]\n",
    "dest_airport_code = dest_best_airports.loc[0][\"code\"]\n",
    "\n",
    "\n",
    "@app.route('/hotels')\n",
    "def hotel_location():\n",
    "    querystring = {\"search_type\": \"HOTEL\", \"name\": f\"{dest_city}, {dest_state}\"}\n",
    "\n",
    "    response = requests.request(\"GET\", hotel_names_url, headers=headers, params=querystring)\n",
    "\n",
    "#     return response.text\n",
    "\n",
    "\n",
    "    dictionary = json.loads(response.text)\n",
    "    details = []\n",
    "    city_id = dictionary[0][\"cityID\"]\n",
    "    a={}\n",
    "    a['CITY_ID'] = city_id\n",
    "\n",
    "    details.append(a)\n",
    "    return jsonify(details)\n",
    "\n",
    "\n",
    "# print(city_id)\n",
    "\n",
    "# start flask app\n",
    "if __name__ == '__main__':\n",
    "    app.run(host=\"0.0.0.0\", port=5000)"
   ]
  },
  {
   "cell_type": "code",
   "execution_count": null,
   "id": "c3c8a502",
   "metadata": {},
   "outputs": [],
   "source": []
  }
 ],
 "metadata": {
  "kernelspec": {
   "display_name": "Python 3 (ipykernel)",
   "language": "python",
   "name": "python3"
  },
  "language_info": {
   "codemirror_mode": {
    "name": "ipython",
    "version": 3
   },
   "file_extension": ".py",
   "mimetype": "text/x-python",
   "name": "python",
   "nbconvert_exporter": "python",
   "pygments_lexer": "ipython3",
   "version": "3.9.7"
  }
 },
 "nbformat": 4,
 "nbformat_minor": 5
}
